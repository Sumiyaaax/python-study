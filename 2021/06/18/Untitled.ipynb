{
 "cells": [
  {
   "cell_type": "code",
   "execution_count": 1,
   "metadata": {},
   "outputs": [
    {
     "name": "stdout",
     "output_type": "stream",
     "text": [
      "Twitterを開きました\n"
     ]
    }
   ],
   "source": [
    "from bs4 import BeautifulSoup\n",
    "from selenium import webdriver\n",
    "import time \n",
    "import pandas as pd\n",
    "import urllib.request as req\n",
    "\n",
    "url = 'https://twitter.com/home?lang=ja'\n",
    "browser = webdriver.Chrome()\n",
    "browser.implicitly_wait(3)\n",
    "browser.get(url)\n",
    "time.sleep(3)\n",
    "print('Twitterを開きました')"
   ]
  },
  {
   "cell_type": "code",
   "execution_count": 4,
   "metadata": {},
   "outputs": [],
   "source": [
    "USER = '@sumiya_blog'\n",
    "PASS = 'kurikuri348rauco14kuri'\n",
    "element = browser.find_element_by_xpath('/html/body/div/div/div/div[2]/main/div/div/div[2]/form/div/div[1]/label/div/div[2]/div/input')\n",
    "element.send_keys(USER)\n",
    "element = browser.find_element_by_name('session[password]')\n",
    "element.send_keys(PASS)"
   ]
  },
  {
   "cell_type": "code",
   "execution_count": 5,
   "metadata": {},
   "outputs": [
    {
     "name": "stdout",
     "output_type": "stream",
     "text": [
      "Twitterにログインしました\n"
     ]
    }
   ],
   "source": [
    "element = browser.find_element_by_xpath('/html/body/div/div/div/div[2]/main/div/div/div[2]/form/div/div[3]/div')\n",
    "element.click()\n",
    "print('Twitterにログインしました')"
   ]
  },
  {
   "cell_type": "code",
   "execution_count": null,
   "metadata": {},
   "outputs": [],
   "source": []
  }
 ],
 "metadata": {
  "kernelspec": {
   "display_name": "Python 3",
   "language": "python",
   "name": "python3"
  },
  "language_info": {
   "codemirror_mode": {
    "name": "ipython",
    "version": 3
   },
   "file_extension": ".py",
   "mimetype": "text/x-python",
   "name": "python",
   "nbconvert_exporter": "python",
   "pygments_lexer": "ipython3",
   "version": "3.8.3"
  }
 },
 "nbformat": 4,
 "nbformat_minor": 4
}
